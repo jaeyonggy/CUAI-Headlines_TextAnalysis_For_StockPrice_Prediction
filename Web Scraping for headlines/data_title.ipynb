{
 "cells": [
  {
   "cell_type": "markdown",
   "id": "unlikely-christianity",
   "metadata": {},
   "source": [
    "# 데이터 수집 및 가공\n",
    "\n",
    "#### CUAI 하계컨퍼런스용"
   ]
  },
  {
   "cell_type": "code",
   "execution_count": 1,
   "id": "proper-career",
   "metadata": {},
   "outputs": [],
   "source": [
    "import pandas as pd\n",
    "import numpy as np\n",
    "import matplotlib.pyplot as plt\n",
    "import seaborn as sns\n",
    "import warnings\n",
    "warnings.filterwarnings(action='ignore')"
   ]
  },
  {
   "cell_type": "markdown",
   "id": "vertical-strap",
   "metadata": {},
   "source": [
    "# 네이버 뉴스 기사 scraping"
   ]
  },
  {
   "cell_type": "markdown",
   "id": "clean-rally",
   "metadata": {},
   "source": [
    "참고:\n",
    "[스크레이핑 관련1](https://jeongwookie.github.io/2019/05/31/190531-naver-main-news-crawling/), \n",
    "[스크레이핑 관련2](https://wikidocs.net/86334),  \n",
    "[인코딩 관련](https://dololak.tistory.com/255)\n",
    "\n",
    "팁: 크롬에서 fn+F12로 html보기"
   ]
  },
  {
   "cell_type": "markdown",
   "id": "cloudy-starter",
   "metadata": {},
   "source": [
    "### 관심 주식"
   ]
  },
  {
   "cell_type": "code",
   "execution_count": 2,
   "id": "satisfactory-distribution",
   "metadata": {},
   "outputs": [],
   "source": [
    "stocks = ['한전기술','셀트리온','카카오게임즈','iMBC','하이브',\n",
    "          '삼성전자','현대차','HMM','대한항공','네이버','두산중공업','sk하이닉스']"
   ]
  },
  {
   "cell_type": "markdown",
   "id": "vanilla-lawrence",
   "metadata": {},
   "source": [
    "### 관심 주식 url로 인코딩"
   ]
  },
  {
   "cell_type": "markdown",
   "id": "built-mountain",
   "metadata": {},
   "source": [
    "후에 각 주식별로 스크레이핑 하기 위해 url로 인코딩이 필요"
   ]
  },
  {
   "cell_type": "code",
   "execution_count": 3,
   "id": "rolled-notification",
   "metadata": {},
   "outputs": [],
   "source": [
    "import urllib.parse\n",
    "\n",
    "stocks_url = []\n",
    "\n",
    "for stock in stocks:\n",
    "    stocks_url.append(urllib.parse.quote(stock, encoding='euc-kr'))  # 네이버가 'euc-kr'을 씀"
   ]
  },
  {
   "cell_type": "code",
   "execution_count": 4,
   "id": "derived-explosion",
   "metadata": {},
   "outputs": [
    {
     "data": {
      "text/plain": [
       "['%C7%D1%C0%FC%B1%E2%BC%FA',\n",
       " '%BC%BF%C6%AE%B8%AE%BF%C2',\n",
       " '%C4%AB%C4%AB%BF%C0%B0%D4%C0%D3%C1%EE',\n",
       " 'iMBC',\n",
       " '%C7%CF%C0%CC%BA%EA',\n",
       " '%BB%EF%BC%BA%C0%FC%C0%DA',\n",
       " '%C7%F6%B4%EB%C2%F7',\n",
       " 'HMM',\n",
       " '%B4%EB%C7%D1%C7%D7%B0%F8',\n",
       " '%B3%D7%C0%CC%B9%F6',\n",
       " '%B5%CE%BB%EA%C1%DF%B0%F8%BE%F7',\n",
       " 'sk%C7%CF%C0%CC%B4%D0%BD%BA']"
      ]
     },
     "execution_count": 4,
     "metadata": {},
     "output_type": "execute_result"
    }
   ],
   "source": [
    "stocks_url"
   ]
  },
  {
   "cell_type": "markdown",
   "id": "novel-exploration",
   "metadata": {},
   "source": [
    "### 주식별 기사제목 저장하기\n",
    "\n",
    "기간: 2021-01-01 ~ 2021-07-14"
   ]
  },
  {
   "cell_type": "markdown",
   "id": "neutral-somerset",
   "metadata": {},
   "source": [
    "#### 데이터프레임 초기화"
   ]
  },
  {
   "cell_type": "code",
   "execution_count": 5,
   "id": "imposed-saint",
   "metadata": {},
   "outputs": [
    {
     "data": {
      "text/html": [
       "<div>\n",
       "<style scoped>\n",
       "    .dataframe tbody tr th:only-of-type {\n",
       "        vertical-align: middle;\n",
       "    }\n",
       "\n",
       "    .dataframe tbody tr th {\n",
       "        vertical-align: top;\n",
       "    }\n",
       "\n",
       "    .dataframe thead th {\n",
       "        text-align: right;\n",
       "    }\n",
       "</style>\n",
       "<table border=\"1\" class=\"dataframe\">\n",
       "  <thead>\n",
       "    <tr style=\"text-align: right;\">\n",
       "      <th></th>\n",
       "      <th>주식</th>\n",
       "      <th>날짜</th>\n",
       "      <th>기사 제목</th>\n",
       "      <th>언론사</th>\n",
       "      <th>주가변동여부</th>\n",
       "      <th>거래량변동여부</th>\n",
       "    </tr>\n",
       "  </thead>\n",
       "  <tbody>\n",
       "  </tbody>\n",
       "</table>\n",
       "</div>"
      ],
      "text/plain": [
       "Empty DataFrame\n",
       "Columns: [주식, 날짜, 기사 제목, 언론사, 주가변동여부, 거래량변동여부]\n",
       "Index: []"
      ]
     },
     "execution_count": 5,
     "metadata": {},
     "output_type": "execute_result"
    }
   ],
   "source": [
    "column_names = ['주식','날짜','기사 제목', '언론사', '주가변동여부', '거래량변동여부']\n",
    "data = pd.DataFrame(columns = column_names)\n",
    "\n",
    "data"
   ]
  },
  {
   "cell_type": "code",
   "execution_count": 6,
   "id": "occupational-housing",
   "metadata": {},
   "outputs": [
    {
     "name": "stderr",
     "output_type": "stream",
     "text": [
      "100%|██████████| 12/12 [06:58<00:00, 34.91s/it]\n"
     ]
    }
   ],
   "source": [
    "import re  # 문자열에서 날짜 찾기용\n",
    "from tqdm import tqdm  #tqdm은 for문의 진행 정도를 시각화한다\n",
    "import requests  # Scraping용\n",
    "from bs4 import BeautifulSoup  # Scraping용\n",
    " \n",
    "\n",
    "for stock_num in tqdm(range(len(stocks_url))):  # 전체 루프\n",
    "\n",
    "    url_1 = \"https://finance.naver.com/news/news_search.nhn?rcdate=&q=\"\n",
    "    url_2 = \"&x=0&y=0&sm=title.basic&pd=4\"\n",
    "    start_end_date = \"&stDateStart=2021-01-01&stDateEnd=2021-07-14\"  # 기간을 쉽게 변경할 수 있게 따로 분리해 놓음\n",
    "    url_3 = \"&page=\"\n",
    "\n",
    "    url = url_1 + stocks_url[stock_num] + url_2 + start_end_date + url_3\n",
    "\n",
    "    \n",
    "    title_list = [] # 한 주식의 기사제목들을 저장할 리스트 초기화\n",
    "    date_list = [] # 한 주식의 기사가 쓰인 날짜를 저장할 리스트 초기화\n",
    "    press_list = [] # 한 주식 기사의 언론사를 저장할 리스트 초기화\n",
    "\n",
    "    for page in range(1,201):  # 왠진 모르겠는데 200페이지 이후 더이상 새로운 기사가 안떠서 200번 루프; 개별 주식의 루프\n",
    "                               # 참고로 range(1,201)은 1부터 200까지임\n",
    "\n",
    "        url_page = url + str(page)\n",
    "\n",
    "        response = requests.get(url_page)\n",
    "\n",
    "        if response.status_code == 200:\n",
    "            html = response.text\n",
    "            soup = BeautifulSoup(html, 'html.parser')\n",
    "            ul = soup.select_one('#contentarea_left > div.newsSchResult')\n",
    "            titles = ul.select('dl > dd > a')\n",
    "            dates = ul.select('dl > dd > span.wdate')\n",
    "            presses = ul.select('dl > dd > span.press')\n",
    "\n",
    "            for title in titles:\n",
    "                title_list.append(title.get_text())  # 기사제목 저장\n",
    "\n",
    "            for date in dates:\n",
    "                match = re.search(r'\\d{4}-\\d{2}-\\d{2}', str(date))\n",
    "                date_list.append(match.group())  # 날짜 저장\n",
    "                \n",
    "            for press in presses:\n",
    "                press_list.append(press.get_text().strip())  # 언론사 저장\n",
    "\n",
    "        else : \n",
    "            print(response.status_code)\n",
    "            \n",
    "            \n",
    "    for j in range(len(title_list)): # for문(page)로 한 주식 관련 수집된 데이터를 데이터프레임에 저장\n",
    "        data=data.append({'주식': stocks[stock_num], '날짜': date_list[j], '기사 제목' : title_list[j], '언론사': press_list[j], '주가변동여부': '0', '거래량변동여부': '0'}, ignore_index=True)"
   ]
  },
  {
   "cell_type": "code",
   "execution_count": 7,
   "id": "rough-tradition",
   "metadata": {},
   "outputs": [
    {
     "data": {
      "text/html": [
       "<div>\n",
       "<style scoped>\n",
       "    .dataframe tbody tr th:only-of-type {\n",
       "        vertical-align: middle;\n",
       "    }\n",
       "\n",
       "    .dataframe tbody tr th {\n",
       "        vertical-align: top;\n",
       "    }\n",
       "\n",
       "    .dataframe thead th {\n",
       "        text-align: right;\n",
       "    }\n",
       "</style>\n",
       "<table border=\"1\" class=\"dataframe\">\n",
       "  <thead>\n",
       "    <tr style=\"text-align: right;\">\n",
       "      <th></th>\n",
       "      <th>주식</th>\n",
       "      <th>날짜</th>\n",
       "      <th>기사 제목</th>\n",
       "      <th>언론사</th>\n",
       "      <th>주가변동여부</th>\n",
       "      <th>거래량변동여부</th>\n",
       "    </tr>\n",
       "  </thead>\n",
       "  <tbody>\n",
       "    <tr>\n",
       "      <th>0</th>\n",
       "      <td>한전기술</td>\n",
       "      <td>2021-07-13</td>\n",
       "      <td>우리기술, '한전 전력연구원'과 풍력발전 제어시스템 개발 MOU</td>\n",
       "      <td>한국경제</td>\n",
       "      <td>0</td>\n",
       "      <td>0</td>\n",
       "    </tr>\n",
       "    <tr>\n",
       "      <th>1</th>\n",
       "      <td>한전기술</td>\n",
       "      <td>2021-07-13</td>\n",
       "      <td>우리기술, 한전 전력연구원과 풍력발전 제어시스템 개발 양해각서 체결</td>\n",
       "      <td>파이낸셜뉴스</td>\n",
       "      <td>0</td>\n",
       "      <td>0</td>\n",
       "    </tr>\n",
       "    <tr>\n",
       "      <th>2</th>\n",
       "      <td>한전기술</td>\n",
       "      <td>2021-07-13</td>\n",
       "      <td>우리기술, 한전 전력연구원과 풍력발전 제어시스템 개발 MOU</td>\n",
       "      <td>아시아경제</td>\n",
       "      <td>0</td>\n",
       "      <td>0</td>\n",
       "    </tr>\n",
       "    <tr>\n",
       "      <th>3</th>\n",
       "      <td>한전기술</td>\n",
       "      <td>2021-07-13</td>\n",
       "      <td>코스피200 종목 90%가 '파란불'…한전기술·신풍제약은 강세</td>\n",
       "      <td>이데일리</td>\n",
       "      <td>0</td>\n",
       "      <td>0</td>\n",
       "    </tr>\n",
       "    <tr>\n",
       "      <th>4</th>\n",
       "      <td>한전기술</td>\n",
       "      <td>2021-07-09</td>\n",
       "      <td>한전, 해상풍력 설치 10일만에 끝내는 기술 개발…세계 최초</td>\n",
       "      <td>머니투데이</td>\n",
       "      <td>0</td>\n",
       "      <td>0</td>\n",
       "    </tr>\n",
       "    <tr>\n",
       "      <th>...</th>\n",
       "      <td>...</td>\n",
       "      <td>...</td>\n",
       "      <td>...</td>\n",
       "      <td>...</td>\n",
       "      <td>...</td>\n",
       "      <td>...</td>\n",
       "    </tr>\n",
       "    <tr>\n",
       "      <th>17954</th>\n",
       "      <td>sk하이닉스</td>\n",
       "      <td>2021-01-29</td>\n",
       "      <td>[신년사] 박정호 SK하이닉스 부회장 \"경쟁자와도 손잡고 협업해야\"</td>\n",
       "      <td>연합뉴스</td>\n",
       "      <td>0</td>\n",
       "      <td>0</td>\n",
       "    </tr>\n",
       "    <tr>\n",
       "      <th>17955</th>\n",
       "      <td>sk하이닉스</td>\n",
       "      <td>2021-01-29</td>\n",
       "      <td>[신년사] SK하이닉스 \"글로벌 테크 리더십 강화해 ICT 1등으로\"</td>\n",
       "      <td>SBS Biz</td>\n",
       "      <td>0</td>\n",
       "      <td>0</td>\n",
       "    </tr>\n",
       "    <tr>\n",
       "      <th>17956</th>\n",
       "      <td>sk하이닉스</td>\n",
       "      <td>2021-01-29</td>\n",
       "      <td>[특징주] 삼성전자·SK하이닉스 신고가…반도체株 새해 첫날 강세</td>\n",
       "      <td>서울경제</td>\n",
       "      <td>0</td>\n",
       "      <td>0</td>\n",
       "    </tr>\n",
       "    <tr>\n",
       "      <th>17957</th>\n",
       "      <td>sk하이닉스</td>\n",
       "      <td>2021-01-29</td>\n",
       "      <td>SK하이닉스, IT 수요 호조세 지속…목표가↑-유진</td>\n",
       "      <td>서울경제</td>\n",
       "      <td>0</td>\n",
       "      <td>0</td>\n",
       "    </tr>\n",
       "    <tr>\n",
       "      <th>17958</th>\n",
       "      <td>sk하이닉스</td>\n",
       "      <td>2021-01-29</td>\n",
       "      <td>급증하는 반도체 수출...삼성전자·SK하이닉스 주가 견인할까</td>\n",
       "      <td>한국경제</td>\n",
       "      <td>0</td>\n",
       "      <td>0</td>\n",
       "    </tr>\n",
       "  </tbody>\n",
       "</table>\n",
       "<p>17959 rows × 6 columns</p>\n",
       "</div>"
      ],
      "text/plain": [
       "           주식          날짜                                   기사 제목      언론사  \\\n",
       "0        한전기술  2021-07-13     우리기술, '한전 전력연구원'과 풍력발전 제어시스템 개발 MOU     한국경제   \n",
       "1        한전기술  2021-07-13   우리기술, 한전 전력연구원과 풍력발전 제어시스템 개발 양해각서 체결   파이낸셜뉴스   \n",
       "2        한전기술  2021-07-13       우리기술, 한전 전력연구원과 풍력발전 제어시스템 개발 MOU    아시아경제   \n",
       "3        한전기술  2021-07-13      코스피200 종목 90%가 '파란불'…한전기술·신풍제약은 강세     이데일리   \n",
       "4        한전기술  2021-07-09       한전, 해상풍력 설치 10일만에 끝내는 기술 개발…세계 최초    머니투데이   \n",
       "...       ...         ...                                     ...      ...   \n",
       "17954  sk하이닉스  2021-01-29   [신년사] 박정호 SK하이닉스 부회장 \"경쟁자와도 손잡고 협업해야\"     연합뉴스   \n",
       "17955  sk하이닉스  2021-01-29  [신년사] SK하이닉스 \"글로벌 테크 리더십 강화해 ICT 1등으로\"  SBS Biz   \n",
       "17956  sk하이닉스  2021-01-29     [특징주] 삼성전자·SK하이닉스 신고가…반도체株 새해 첫날 강세     서울경제   \n",
       "17957  sk하이닉스  2021-01-29            SK하이닉스, IT 수요 호조세 지속…목표가↑-유진     서울경제   \n",
       "17958  sk하이닉스  2021-01-29       급증하는 반도체 수출...삼성전자·SK하이닉스 주가 견인할까     한국경제   \n",
       "\n",
       "      주가변동여부 거래량변동여부  \n",
       "0          0       0  \n",
       "1          0       0  \n",
       "2          0       0  \n",
       "3          0       0  \n",
       "4          0       0  \n",
       "...      ...     ...  \n",
       "17954      0       0  \n",
       "17955      0       0  \n",
       "17956      0       0  \n",
       "17957      0       0  \n",
       "17958      0       0  \n",
       "\n",
       "[17959 rows x 6 columns]"
      ]
     },
     "execution_count": 7,
     "metadata": {},
     "output_type": "execute_result"
    }
   ],
   "source": [
    "data"
   ]
  },
  {
   "cell_type": "code",
   "execution_count": 8,
   "id": "black-apparatus",
   "metadata": {},
   "outputs": [],
   "source": [
    "data.to_csv('data_title.csv', index=False)"
   ]
  },
  {
   "cell_type": "code",
   "execution_count": null,
   "id": "mature-nomination",
   "metadata": {},
   "outputs": [],
   "source": []
  }
 ],
 "metadata": {
  "kernelspec": {
   "display_name": "Python 3",
   "language": "python",
   "name": "python3"
  },
  "language_info": {
   "codemirror_mode": {
    "name": "ipython",
    "version": 3
   },
   "file_extension": ".py",
   "mimetype": "text/x-python",
   "name": "python",
   "nbconvert_exporter": "python",
   "pygments_lexer": "ipython3",
   "version": "3.8.5"
  }
 },
 "nbformat": 4,
 "nbformat_minor": 5
}
