{
 "cells": [
  {
   "cell_type": "markdown",
   "id": "expensive-german",
   "metadata": {},
   "source": [
    "# _기사 제목으로 해당 주식의 주가변동을 예측하자_\n",
    "\n",
    "#### CUAI 하계컨퍼런스"
   ]
  },
  {
   "cell_type": "code",
   "execution_count": 1,
   "id": "hired-enough",
   "metadata": {},
   "outputs": [],
   "source": [
    "import pandas as pd\n",
    "import numpy as np\n",
    "import matplotlib.pyplot as plt\n",
    "import seaborn as sns\n",
    "import warnings\n",
    "warnings.filterwarnings(action='ignore')"
   ]
  },
  {
   "cell_type": "markdown",
   "id": "convinced-clause",
   "metadata": {},
   "source": [
    "# 1. 데이터"
   ]
  },
  {
   "cell_type": "code",
   "execution_count": 2,
   "id": "motivated-communication",
   "metadata": {},
   "outputs": [
    {
     "data": {
      "text/html": [
       "<div>\n",
       "<style scoped>\n",
       "    .dataframe tbody tr th:only-of-type {\n",
       "        vertical-align: middle;\n",
       "    }\n",
       "\n",
       "    .dataframe tbody tr th {\n",
       "        vertical-align: top;\n",
       "    }\n",
       "\n",
       "    .dataframe thead th {\n",
       "        text-align: right;\n",
       "    }\n",
       "</style>\n",
       "<table border=\"1\" class=\"dataframe\">\n",
       "  <thead>\n",
       "    <tr style=\"text-align: right;\">\n",
       "      <th></th>\n",
       "      <th>주식</th>\n",
       "      <th>기사 제목</th>\n",
       "      <th>언론사</th>\n",
       "      <th>주가변동여부</th>\n",
       "      <th>거래량변동여부</th>\n",
       "    </tr>\n",
       "  </thead>\n",
       "  <tbody>\n",
       "    <tr>\n",
       "      <th>0</th>\n",
       "      <td>한전기술</td>\n",
       "      <td>우리기술, '한전 전력연구원'과 풍력발전 제어시스템 개발 MOU</td>\n",
       "      <td>한국경제</td>\n",
       "      <td>0</td>\n",
       "      <td>0</td>\n",
       "    </tr>\n",
       "    <tr>\n",
       "      <th>1</th>\n",
       "      <td>한전기술</td>\n",
       "      <td>우리기술, 한전 전력연구원과 풍력발전 제어시스템 개발 양해각서 체결</td>\n",
       "      <td>파이낸셜뉴스</td>\n",
       "      <td>0</td>\n",
       "      <td>0</td>\n",
       "    </tr>\n",
       "    <tr>\n",
       "      <th>2</th>\n",
       "      <td>한전기술</td>\n",
       "      <td>우리기술, 한전 전력연구원과 풍력발전 제어시스템 개발 MOU</td>\n",
       "      <td>아시아경제</td>\n",
       "      <td>0</td>\n",
       "      <td>0</td>\n",
       "    </tr>\n",
       "    <tr>\n",
       "      <th>3</th>\n",
       "      <td>한전기술</td>\n",
       "      <td>코스피200 종목 90%가 '파란불'…한전기술·신풍제약은 강세</td>\n",
       "      <td>이데일리</td>\n",
       "      <td>0</td>\n",
       "      <td>0</td>\n",
       "    </tr>\n",
       "    <tr>\n",
       "      <th>4</th>\n",
       "      <td>한전기술</td>\n",
       "      <td>한전, 세계 최초로 해상풍력 일괄설치기술 개발…\"해상풍력 보급에 속도 낼 것\"</td>\n",
       "      <td>중앙일보</td>\n",
       "      <td>1</td>\n",
       "      <td>1</td>\n",
       "    </tr>\n",
       "    <tr>\n",
       "      <th>...</th>\n",
       "      <td>...</td>\n",
       "      <td>...</td>\n",
       "      <td>...</td>\n",
       "      <td>...</td>\n",
       "      <td>...</td>\n",
       "    </tr>\n",
       "    <tr>\n",
       "      <th>14302</th>\n",
       "      <td>SK하이닉스</td>\n",
       "      <td>SK하이닉스, 13만원 돌파…신고가 또 경신</td>\n",
       "      <td>연합뉴스</td>\n",
       "      <td>1</td>\n",
       "      <td>0</td>\n",
       "    </tr>\n",
       "    <tr>\n",
       "      <th>14303</th>\n",
       "      <td>SK하이닉스</td>\n",
       "      <td>삼성·SK하이닉스의 힘…정부 \"올 반도체 수출 1000억弗 ↑\"</td>\n",
       "      <td>뉴스1</td>\n",
       "      <td>1</td>\n",
       "      <td>0</td>\n",
       "    </tr>\n",
       "    <tr>\n",
       "      <th>14304</th>\n",
       "      <td>SK하이닉스</td>\n",
       "      <td>삼성전자 11만원·SK하이닉스 17만원…반도체 투톱 목표가 줄상향</td>\n",
       "      <td>이데일리</td>\n",
       "      <td>1</td>\n",
       "      <td>0</td>\n",
       "    </tr>\n",
       "    <tr>\n",
       "      <th>14305</th>\n",
       "      <td>SK하이닉스</td>\n",
       "      <td>[단독]SK하이닉스 기본급 100% 보너스, '연봉 50%' 잭팟도 터트릴까</td>\n",
       "      <td>디지털타임스</td>\n",
       "      <td>1</td>\n",
       "      <td>0</td>\n",
       "    </tr>\n",
       "    <tr>\n",
       "      <th>14306</th>\n",
       "      <td>SK하이닉스</td>\n",
       "      <td>[신년사] 박정호 SK하이닉스 부회장 \"경쟁자와도 협업해야\"</td>\n",
       "      <td>데일리안</td>\n",
       "      <td>1</td>\n",
       "      <td>0</td>\n",
       "    </tr>\n",
       "  </tbody>\n",
       "</table>\n",
       "<p>14307 rows × 5 columns</p>\n",
       "</div>"
      ],
      "text/plain": [
       "           주식                                        기사 제목     언론사  주가변동여부  \\\n",
       "0        한전기술          우리기술, '한전 전력연구원'과 풍력발전 제어시스템 개발 MOU    한국경제       0   \n",
       "1        한전기술        우리기술, 한전 전력연구원과 풍력발전 제어시스템 개발 양해각서 체결  파이낸셜뉴스       0   \n",
       "2        한전기술            우리기술, 한전 전력연구원과 풍력발전 제어시스템 개발 MOU   아시아경제       0   \n",
       "3        한전기술           코스피200 종목 90%가 '파란불'…한전기술·신풍제약은 강세    이데일리       0   \n",
       "4        한전기술  한전, 세계 최초로 해상풍력 일괄설치기술 개발…\"해상풍력 보급에 속도 낼 것\"    중앙일보       1   \n",
       "...       ...                                          ...     ...     ...   \n",
       "14302  SK하이닉스                     SK하이닉스, 13만원 돌파…신고가 또 경신    연합뉴스       1   \n",
       "14303  SK하이닉스          삼성·SK하이닉스의 힘…정부 \"올 반도체 수출 1000억弗 ↑\"     뉴스1       1   \n",
       "14304  SK하이닉스         삼성전자 11만원·SK하이닉스 17만원…반도체 투톱 목표가 줄상향    이데일리       1   \n",
       "14305  SK하이닉스   [단독]SK하이닉스 기본급 100% 보너스, '연봉 50%' 잭팟도 터트릴까  디지털타임스       1   \n",
       "14306  SK하이닉스            [신년사] 박정호 SK하이닉스 부회장 \"경쟁자와도 협업해야\"    데일리안       1   \n",
       "\n",
       "       거래량변동여부  \n",
       "0            0  \n",
       "1            0  \n",
       "2            0  \n",
       "3            0  \n",
       "4            1  \n",
       "...        ...  \n",
       "14302        0  \n",
       "14303        0  \n",
       "14304        0  \n",
       "14305        0  \n",
       "14306        0  \n",
       "\n",
       "[14307 rows x 5 columns]"
      ]
     },
     "execution_count": 2,
     "metadata": {},
     "output_type": "execute_result"
    }
   ],
   "source": [
    "df = pd.read_csv('data.csv')\n",
    "\n",
    "df"
   ]
  },
  {
   "cell_type": "markdown",
   "id": "usual-regulation",
   "metadata": {},
   "source": [
    "#### 결측치"
   ]
  },
  {
   "cell_type": "code",
   "execution_count": 3,
   "id": "mechanical-treat",
   "metadata": {},
   "outputs": [
    {
     "data": {
      "text/plain": [
       "주식         0\n",
       "기사 제목      0\n",
       "언론사        0\n",
       "주가변동여부     0\n",
       "거래량변동여부    0\n",
       "dtype: int64"
      ]
     },
     "execution_count": 3,
     "metadata": {},
     "output_type": "execute_result"
    }
   ],
   "source": [
    "df.isnull().sum()"
   ]
  },
  {
   "cell_type": "markdown",
   "id": "expensive-recall",
   "metadata": {},
   "source": [
    "#### y값 비율"
   ]
  },
  {
   "cell_type": "code",
   "execution_count": 4,
   "id": "foster-suite",
   "metadata": {},
   "outputs": [
    {
     "data": {
      "text/plain": [
       "0    8053\n",
       "1    6254\n",
       "Name: 주가변동여부, dtype: int64"
      ]
     },
     "execution_count": 4,
     "metadata": {},
     "output_type": "execute_result"
    }
   ],
   "source": [
    "df['주가변동여부'].value_counts()"
   ]
  },
  {
   "cell_type": "code",
   "execution_count": 5,
   "id": "requested-dressing",
   "metadata": {},
   "outputs": [
    {
     "data": {
      "text/plain": [
       "0    7767\n",
       "1    6540\n",
       "Name: 거래량변동여부, dtype: int64"
      ]
     },
     "execution_count": 5,
     "metadata": {},
     "output_type": "execute_result"
    }
   ],
   "source": [
    "df['거래량변동여부'].value_counts()"
   ]
  },
  {
   "cell_type": "markdown",
   "id": "political-ground",
   "metadata": {},
   "source": [
    "#### 두 변수 모두 한 쪽으로 치우쳐 있지 않다"
   ]
  },
  {
   "cell_type": "markdown",
   "id": "surface-senior",
   "metadata": {},
   "source": [
    "# 2. 한글 텍스트 전처리 및 토큰화 구현"
   ]
  },
  {
   "cell_type": "markdown",
   "id": "protected-leadership",
   "metadata": {},
   "source": [
    "#### 기사 제목에서 주식의 이름 없애기\n",
    "\n",
    "해당 주식이름의 주가변동여부 예측에 영향을 없애기 위함이다. 그리고 기타 불용어도 제거하기로 한다."
   ]
  },
  {
   "cell_type": "code",
   "execution_count": 6,
   "id": "annual-ordering",
   "metadata": {},
   "outputs": [
    {
     "name": "stdout",
     "output_type": "stream",
     "text": [
      "한전기술 셀트리온 카카오게임즈 iMBC 하이브 삼성전자 현대자동차 HMM 대한항공 NAVER 두산중공업 SK하이닉스 한전 이 현대차 네이버 두산 주 차 "
     ]
    }
   ],
   "source": [
    "# 불용어\n",
    "stock_stops = []\n",
    "for name in df['주식'].unique():\n",
    "    stock_stops.append(name)\n",
    "    \n",
    "stock_stops.extend(['한전','이','현대차','네이버','두산','주','차'])  # for mulitple items, use extend\n",
    "for i in stock_stops:\n",
    "    print(i, end=' ')"
   ]
  },
  {
   "cell_type": "markdown",
   "id": "intense-writing",
   "metadata": {},
   "source": [
    "#### 한글을 konlpy의 Komoran으로 형태소 분석을 한다. 여기서 단어가 일반명사, 고유명사, 동사, 형용사, 외국어, 관형사, 수사인 것만 저장함으로써 토큰화와 불용어 제거를 한번에 구현함\n",
    "\n",
    "#### [한글 전처리 참고](https://mkjjo.github.io/python/2019/07/09/korean_preprocessing.html), [konlpy.Komoran 품사표](https://docs.komoran.kr/firststep/postypes.html)"
   ]
  },
  {
   "cell_type": "code",
   "execution_count": 7,
   "id": "unavailable-shame",
   "metadata": {},
   "outputs": [],
   "source": [
    "import konlpy\n",
    "\n",
    "komoran = konlpy.tag.Komoran()\n",
    "\n",
    "def komoran_tokenizer(text):  # 형태소 분석 및 단어 추출\n",
    "    koko = komoran.pos(text)\n",
    "    words = []\n",
    "    \n",
    "    for word, tag in koko:\n",
    "        if word not in stock_stops:\n",
    "            if tag in ['NNG','NNP','VV','VA','SL', 'MM', 'NR']:\n",
    "                words.append(word)\n",
    "\n",
    "    return words"
   ]
  },
  {
   "cell_type": "markdown",
   "id": "capital-shanghai",
   "metadata": {},
   "source": [
    "#### 예시"
   ]
  },
  {
   "cell_type": "code",
   "execution_count": 8,
   "id": "chicken-crowd",
   "metadata": {},
   "outputs": [
    {
     "data": {
      "text/plain": [
       "['만원', '돌파', '신고', '경신']"
      ]
     },
     "execution_count": 8,
     "metadata": {},
     "output_type": "execute_result"
    }
   ],
   "source": [
    "komoran_tokenizer(\"SK하이닉스, 13만원 돌파…신고가 또 경신\")"
   ]
  },
  {
   "cell_type": "markdown",
   "id": "headed-banking",
   "metadata": {},
   "source": [
    "#### 후에 TF-IDF를 통해 기사제목을 피처 벡터화를 할 때 토큰화를 같이 해주기 때문에 아직 기사 제목을 토큰화하지 않는다"
   ]
  },
  {
   "cell_type": "markdown",
   "id": "based-junior",
   "metadata": {},
   "source": [
    "# 3. Train set, Test set 분리"
   ]
  },
  {
   "cell_type": "markdown",
   "id": "electrical-contemporary",
   "metadata": {},
   "source": [
    "#### 주식에 상관없이 전체 데이터 중 Train: 70%, Test: 30%로 분리하자\n",
    "\n",
    "train_test_split의 매개변수 stratify 관련 설명:  \n",
    "Stratified sampling는 훈련데이터를 나눌 때 무작위로 샘플링을 하되, original dataset의 클래스 비율이 train, test set에서도 동일하게 유지되는 것을 보장한다는 점이 Random sampling과의 차이점이다."
   ]
  },
  {
   "cell_type": "code",
   "execution_count": 9,
   "id": "divided-penetration",
   "metadata": {},
   "outputs": [],
   "source": [
    "from sklearn.model_selection import train_test_split\n",
    "\n",
    "x_df = df.drop('주가변동여부',axis=1)\n",
    "y_df = df['주가변동여부']\n",
    "\n",
    "x_train, x_test, y_train, y_test = train_test_split(x_df, y_df, test_size=0.3, random_state=0, stratify=y_df)"
   ]
  },
  {
   "cell_type": "code",
   "execution_count": 10,
   "id": "sealed-enemy",
   "metadata": {},
   "outputs": [
    {
     "data": {
      "text/html": [
       "<div>\n",
       "<style scoped>\n",
       "    .dataframe tbody tr th:only-of-type {\n",
       "        vertical-align: middle;\n",
       "    }\n",
       "\n",
       "    .dataframe tbody tr th {\n",
       "        vertical-align: top;\n",
       "    }\n",
       "\n",
       "    .dataframe thead th {\n",
       "        text-align: right;\n",
       "    }\n",
       "</style>\n",
       "<table border=\"1\" class=\"dataframe\">\n",
       "  <thead>\n",
       "    <tr style=\"text-align: right;\">\n",
       "      <th></th>\n",
       "      <th>주식</th>\n",
       "      <th>기사 제목</th>\n",
       "      <th>언론사</th>\n",
       "      <th>거래량변동여부</th>\n",
       "    </tr>\n",
       "  </thead>\n",
       "  <tbody>\n",
       "    <tr>\n",
       "      <th>12988</th>\n",
       "      <td>두산중공업</td>\n",
       "      <td>두산중공업, 국내 최초 사용후핵연료 저장용기 미국 수출</td>\n",
       "      <td>머니S</td>\n",
       "      <td>0</td>\n",
       "    </tr>\n",
       "    <tr>\n",
       "      <th>11164</th>\n",
       "      <td>NAVER</td>\n",
       "      <td>신세계, '아시아 유통기업' 9위·롯데 11위 등극 … 쿠팡·네이버도 20위권</td>\n",
       "      <td>머니S</td>\n",
       "      <td>0</td>\n",
       "    </tr>\n",
       "    <tr>\n",
       "      <th>13693</th>\n",
       "      <td>SK하이닉스</td>\n",
       "      <td>SK하이닉스, D램 판가상승에 실적 상향…목표가↑-신영</td>\n",
       "      <td>데일리안</td>\n",
       "      <td>1</td>\n",
       "    </tr>\n",
       "    <tr>\n",
       "      <th>10293</th>\n",
       "      <td>NAVER</td>\n",
       "      <td>네이버 400억 지분투자 받은 티빙...\"오리지널 콘텐츠 가속화\"</td>\n",
       "      <td>한국경제TV</td>\n",
       "      <td>0</td>\n",
       "    </tr>\n",
       "    <tr>\n",
       "      <th>75</th>\n",
       "      <td>한전기술</td>\n",
       "      <td>한전기술, ‘코로나 극복 위한 Book-up Day’ 이벤트 개최</td>\n",
       "      <td>뉴시스</td>\n",
       "      <td>0</td>\n",
       "    </tr>\n",
       "    <tr>\n",
       "      <th>...</th>\n",
       "      <td>...</td>\n",
       "      <td>...</td>\n",
       "      <td>...</td>\n",
       "      <td>...</td>\n",
       "    </tr>\n",
       "    <tr>\n",
       "      <th>12112</th>\n",
       "      <td>NAVER</td>\n",
       "      <td>네이버, 손익 가치 하향보다 커머스 상향 주목-이베스트</td>\n",
       "      <td>한국일보</td>\n",
       "      <td>0</td>\n",
       "    </tr>\n",
       "    <tr>\n",
       "      <th>10514</th>\n",
       "      <td>NAVER</td>\n",
       "      <td>네이버, 이베이코리아 인수전 불참…이마트 단독 추진</td>\n",
       "      <td>한국일보</td>\n",
       "      <td>0</td>\n",
       "    </tr>\n",
       "    <tr>\n",
       "      <th>7042</th>\n",
       "      <td>현대자동차</td>\n",
       "      <td>현대차·기아, 전기차·수소차 앞세워 중국 시장 재도약 노린다</td>\n",
       "      <td>한국경제TV</td>\n",
       "      <td>0</td>\n",
       "    </tr>\n",
       "    <tr>\n",
       "      <th>12721</th>\n",
       "      <td>두산중공업</td>\n",
       "      <td>두산중공업 자금조달 속도↑…신용전망 여전히 부정적 [마켓인사이트]</td>\n",
       "      <td>서울경제</td>\n",
       "      <td>1</td>\n",
       "    </tr>\n",
       "    <tr>\n",
       "      <th>14010</th>\n",
       "      <td>SK하이닉스</td>\n",
       "      <td>이석희 SK하이닉스 사장 \"올해는 성과급 관련 내부 소통 강화하겠다\"</td>\n",
       "      <td>한국경제</td>\n",
       "      <td>0</td>\n",
       "    </tr>\n",
       "  </tbody>\n",
       "</table>\n",
       "<p>10014 rows × 4 columns</p>\n",
       "</div>"
      ],
      "text/plain": [
       "           주식                                        기사 제목     언론사  거래량변동여부\n",
       "12988   두산중공업               두산중공업, 국내 최초 사용후핵연료 저장용기 미국 수출     머니S        0\n",
       "11164   NAVER  신세계, '아시아 유통기업' 9위·롯데 11위 등극 … 쿠팡·네이버도 20위권     머니S        0\n",
       "13693  SK하이닉스               SK하이닉스, D램 판가상승에 실적 상향…목표가↑-신영    데일리안        1\n",
       "10293   NAVER         네이버 400억 지분투자 받은 티빙...\"오리지널 콘텐츠 가속화\"  한국경제TV        0\n",
       "75       한전기술         한전기술, ‘코로나 극복 위한 Book-up Day’ 이벤트 개최     뉴시스        0\n",
       "...       ...                                          ...     ...      ...\n",
       "12112   NAVER               네이버, 손익 가치 하향보다 커머스 상향 주목-이베스트    한국일보        0\n",
       "10514   NAVER                 네이버, 이베이코리아 인수전 불참…이마트 단독 추진    한국일보        0\n",
       "7042    현대자동차            현대차·기아, 전기차·수소차 앞세워 중국 시장 재도약 노린다  한국경제TV        0\n",
       "12721   두산중공업         두산중공업 자금조달 속도↑…신용전망 여전히 부정적 [마켓인사이트]    서울경제        1\n",
       "14010  SK하이닉스       이석희 SK하이닉스 사장 \"올해는 성과급 관련 내부 소통 강화하겠다\"    한국경제        0\n",
       "\n",
       "[10014 rows x 4 columns]"
      ]
     },
     "execution_count": 10,
     "metadata": {},
     "output_type": "execute_result"
    }
   ],
   "source": [
    "x_train"
   ]
  },
  {
   "cell_type": "code",
   "execution_count": 11,
   "id": "reported-market",
   "metadata": {},
   "outputs": [
    {
     "data": {
      "text/html": [
       "<div>\n",
       "<style scoped>\n",
       "    .dataframe tbody tr th:only-of-type {\n",
       "        vertical-align: middle;\n",
       "    }\n",
       "\n",
       "    .dataframe tbody tr th {\n",
       "        vertical-align: top;\n",
       "    }\n",
       "\n",
       "    .dataframe thead th {\n",
       "        text-align: right;\n",
       "    }\n",
       "</style>\n",
       "<table border=\"1\" class=\"dataframe\">\n",
       "  <thead>\n",
       "    <tr style=\"text-align: right;\">\n",
       "      <th></th>\n",
       "      <th>주식</th>\n",
       "      <th>기사 제목</th>\n",
       "      <th>언론사</th>\n",
       "      <th>거래량변동여부</th>\n",
       "    </tr>\n",
       "  </thead>\n",
       "  <tbody>\n",
       "    <tr>\n",
       "      <th>4868</th>\n",
       "      <td>현대자동차</td>\n",
       "      <td>편의점 도시락 사면 삼성전자·현대차 주식 준다고?</td>\n",
       "      <td>경향신문</td>\n",
       "      <td>0</td>\n",
       "    </tr>\n",
       "    <tr>\n",
       "      <th>11547</th>\n",
       "      <td>NAVER</td>\n",
       "      <td>네이버, 북미 R&amp;D 네트워크 강화…AI 연구 박차</td>\n",
       "      <td>SBS Biz</td>\n",
       "      <td>1</td>\n",
       "    </tr>\n",
       "    <tr>\n",
       "      <th>10014</th>\n",
       "      <td>NAVER</td>\n",
       "      <td>네이버의 저력…외국인 몰려 5% 급등 단숨에 카카오 제치고 시총 3위 탈환</td>\n",
       "      <td>한국경제</td>\n",
       "      <td>1</td>\n",
       "    </tr>\n",
       "    <tr>\n",
       "      <th>4167</th>\n",
       "      <td>삼성전자</td>\n",
       "      <td>삼성전자, 커피 전문점에 ‘삼성 키오스크’ 공급</td>\n",
       "      <td>KBS</td>\n",
       "      <td>0</td>\n",
       "    </tr>\n",
       "    <tr>\n",
       "      <th>11662</th>\n",
       "      <td>NAVER</td>\n",
       "      <td>네이버, 1분기 신사업 고성장에도 영업익 '주춤'···이유는?</td>\n",
       "      <td>아시아경제</td>\n",
       "      <td>0</td>\n",
       "    </tr>\n",
       "    <tr>\n",
       "      <th>...</th>\n",
       "      <td>...</td>\n",
       "      <td>...</td>\n",
       "      <td>...</td>\n",
       "      <td>...</td>\n",
       "    </tr>\n",
       "    <tr>\n",
       "      <th>5937</th>\n",
       "      <td>현대자동차</td>\n",
       "      <td>현대차·기아, 올 친환경차 수출 10만대 넘었다</td>\n",
       "      <td>YTN</td>\n",
       "      <td>0</td>\n",
       "    </tr>\n",
       "    <tr>\n",
       "      <th>12938</th>\n",
       "      <td>두산중공업</td>\n",
       "      <td>두산중공업, 中 쉬다보 원전 계측제어 기자재 수주</td>\n",
       "      <td>연합뉴스</td>\n",
       "      <td>1</td>\n",
       "    </tr>\n",
       "    <tr>\n",
       "      <th>230</th>\n",
       "      <td>셀트리온</td>\n",
       "      <td>[외인이 담은 바이오] 외국인 ‘셀트리온’ 기관투자자 ‘SK바이오팜’ 러브콜</td>\n",
       "      <td>이데일리</td>\n",
       "      <td>0</td>\n",
       "    </tr>\n",
       "    <tr>\n",
       "      <th>3712</th>\n",
       "      <td>삼성전자</td>\n",
       "      <td>美 반도체 회의 앞둔 삼성전자, 대규모 투자계획 밝힐까</td>\n",
       "      <td>매일경제</td>\n",
       "      <td>1</td>\n",
       "    </tr>\n",
       "    <tr>\n",
       "      <th>114</th>\n",
       "      <td>셀트리온</td>\n",
       "      <td>카카오게임즈, 결국 셀트리온제약 제쳤다…시총 2위 등극</td>\n",
       "      <td>한국경제</td>\n",
       "      <td>1</td>\n",
       "    </tr>\n",
       "  </tbody>\n",
       "</table>\n",
       "<p>4293 rows × 4 columns</p>\n",
       "</div>"
      ],
      "text/plain": [
       "          주식                                       기사 제목      언론사  거래량변동여부\n",
       "4868   현대자동차                 편의점 도시락 사면 삼성전자·현대차 주식 준다고?     경향신문        0\n",
       "11547  NAVER                네이버, 북미 R&D 네트워크 강화…AI 연구 박차  SBS Biz        1\n",
       "10014  NAVER   네이버의 저력…외국인 몰려 5% 급등 단숨에 카카오 제치고 시총 3위 탈환     한국경제        1\n",
       "4167    삼성전자                  삼성전자, 커피 전문점에 ‘삼성 키오스크’ 공급      KBS        0\n",
       "11662  NAVER          네이버, 1분기 신사업 고성장에도 영업익 '주춤'···이유는?    아시아경제        0\n",
       "...      ...                                         ...      ...      ...\n",
       "5937   현대자동차                  현대차·기아, 올 친환경차 수출 10만대 넘었다      YTN        0\n",
       "12938  두산중공업                 두산중공업, 中 쉬다보 원전 계측제어 기자재 수주     연합뉴스        1\n",
       "230     셀트리온  [외인이 담은 바이오] 외국인 ‘셀트리온’ 기관투자자 ‘SK바이오팜’ 러브콜     이데일리        0\n",
       "3712    삼성전자              美 반도체 회의 앞둔 삼성전자, 대규모 투자계획 밝힐까     매일경제        1\n",
       "114     셀트리온              카카오게임즈, 결국 셀트리온제약 제쳤다…시총 2위 등극     한국경제        1\n",
       "\n",
       "[4293 rows x 4 columns]"
      ]
     },
     "execution_count": 11,
     "metadata": {},
     "output_type": "execute_result"
    }
   ],
   "source": [
    "x_test"
   ]
  },
  {
   "cell_type": "markdown",
   "id": "cordless-salon",
   "metadata": {},
   "source": [
    "#### y값 비율"
   ]
  },
  {
   "cell_type": "code",
   "execution_count": 12,
   "id": "protective-milwaukee",
   "metadata": {},
   "outputs": [
    {
     "data": {
      "text/plain": [
       "0    5637\n",
       "1    4377\n",
       "Name: 주가변동여부, dtype: int64"
      ]
     },
     "execution_count": 12,
     "metadata": {},
     "output_type": "execute_result"
    }
   ],
   "source": [
    "y_train.value_counts()"
   ]
  },
  {
   "cell_type": "code",
   "execution_count": 13,
   "id": "rubber-reasoning",
   "metadata": {},
   "outputs": [
    {
     "data": {
      "text/plain": [
       "0    2416\n",
       "1    1877\n",
       "Name: 주가변동여부, dtype: int64"
      ]
     },
     "execution_count": 13,
     "metadata": {},
     "output_type": "execute_result"
    }
   ],
   "source": [
    "y_test.value_counts()"
   ]
  },
  {
   "cell_type": "markdown",
   "id": "dental-fruit",
   "metadata": {},
   "source": [
    "# 4. 주가변동여부 예측 모델\n",
    "\n",
    "파이썬 머신러닝 완벽 가이드 p.543-544 참고"
   ]
  },
  {
   "cell_type": "markdown",
   "id": "floppy-africa",
   "metadata": {},
   "source": [
    "### TF-IDF 벡터화\n",
    "\n",
    "#### 위에서 구현한 한글 불용어 제거시키는 komoran 토큰화 함수를 사용하자"
   ]
  },
  {
   "cell_type": "markdown",
   "id": "becoming-watershed",
   "metadata": {},
   "source": [
    "\"학습할 때 적용한 TfidfVectorizer를 그대로 사용해야 학습 시 설정된 TfidfVectorizer의 피처 개수와 테스트 데이터를 TfidfVectorizer로 변환할 피처 개수가 같아진다.\""
   ]
  },
  {
   "cell_type": "code",
   "execution_count": 14,
   "id": "capable-insertion",
   "metadata": {},
   "outputs": [],
   "source": [
    "from sklearn.feature_extraction.text import TfidfVectorizer\n",
    "\n",
    "tfidf_vect = TfidfVectorizer(tokenizer=komoran_tokenizer, ngram_range=(1,2), min_df=3, max_df=0.9)\n",
    "tfidf_vect.fit(x_train['기사 제목'])\n",
    "\n",
    "# Train 데이터 피처 벡터화\n",
    "tfidf_matrix_train = tfidf_vect.transform(x_train['기사 제목'])\n",
    "\n",
    "# Test 데이터 피처 벡터화\n",
    "tfidf_matrix_test = tfidf_vect.transform(x_test['기사 제목'])"
   ]
  },
  {
   "cell_type": "markdown",
   "id": "reserved-queens",
   "metadata": {},
   "source": [
    "## Logistic Regression"
   ]
  },
  {
   "cell_type": "markdown",
   "id": "moderate-warrant",
   "metadata": {},
   "source": [
    "### Training"
   ]
  },
  {
   "cell_type": "code",
   "execution_count": 15,
   "id": "greek-conservative",
   "metadata": {},
   "outputs": [
    {
     "name": "stdout",
     "output_type": "stream",
     "text": [
      "Fitting 5 folds for each of 5 candidates, totalling 25 fits\n",
      "[CV] C=1 .............................................................\n",
      "[CV] .............................................. C=1, total=   0.2s\n",
      "[CV] C=1 .............................................................\n"
     ]
    },
    {
     "name": "stderr",
     "output_type": "stream",
     "text": [
      "[Parallel(n_jobs=1)]: Using backend SequentialBackend with 1 concurrent workers.\n",
      "[Parallel(n_jobs=1)]: Done   1 out of   1 | elapsed:    0.2s remaining:    0.0s\n"
     ]
    },
    {
     "name": "stdout",
     "output_type": "stream",
     "text": [
      "[CV] .............................................. C=1, total=   0.2s\n",
      "[CV] C=1 .............................................................\n",
      "[CV] .............................................. C=1, total=   0.2s\n",
      "[CV] C=1 .............................................................\n",
      "[CV] .............................................. C=1, total=   0.2s\n",
      "[CV] C=1 .............................................................\n",
      "[CV] .............................................. C=1, total=   0.1s\n",
      "[CV] C=3.5 ...........................................................\n",
      "[CV] ............................................ C=3.5, total=   0.2s\n",
      "[CV] C=3.5 ...........................................................\n",
      "[CV] ............................................ C=3.5, total=   0.2s\n",
      "[CV] C=3.5 ...........................................................\n",
      "[CV] ............................................ C=3.5, total=   0.4s\n",
      "[CV] C=3.5 ...........................................................\n",
      "[CV] ............................................ C=3.5, total=   0.5s\n",
      "[CV] C=3.5 ...........................................................\n",
      "[CV] ............................................ C=3.5, total=   0.2s\n",
      "[CV] C=4.5 ...........................................................\n",
      "[CV] ............................................ C=4.5, total=   0.2s\n",
      "[CV] C=4.5 ...........................................................\n",
      "[CV] ............................................ C=4.5, total=   0.2s\n",
      "[CV] C=4.5 ...........................................................\n",
      "[CV] ............................................ C=4.5, total=   0.2s\n",
      "[CV] C=4.5 ...........................................................\n",
      "[CV] ............................................ C=4.5, total=   0.2s\n",
      "[CV] C=4.5 ...........................................................\n",
      "[CV] ............................................ C=4.5, total=   0.2s\n",
      "[CV] C=5.5 ...........................................................\n",
      "[CV] ............................................ C=5.5, total=   0.2s\n",
      "[CV] C=5.5 ...........................................................\n",
      "[CV] ............................................ C=5.5, total=   0.2s\n",
      "[CV] C=5.5 ...........................................................\n",
      "[CV] ............................................ C=5.5, total=   0.3s\n",
      "[CV] C=5.5 ...........................................................\n",
      "[CV] ............................................ C=5.5, total=   0.2s\n",
      "[CV] C=5.5 ...........................................................\n",
      "[CV] ............................................ C=5.5, total=   0.2s\n",
      "[CV] C=10 ............................................................\n",
      "[CV] ............................................. C=10, total=   0.2s\n",
      "[CV] C=10 ............................................................\n",
      "[CV] ............................................. C=10, total=   0.3s\n",
      "[CV] C=10 ............................................................\n",
      "[CV] ............................................. C=10, total=   0.2s\n",
      "[CV] C=10 ............................................................\n",
      "[CV] ............................................. C=10, total=   0.2s\n",
      "[CV] C=10 ............................................................\n",
      "[CV] ............................................. C=10, total=   0.2s\n",
      "{'C': 1} 0.7138\n"
     ]
    },
    {
     "name": "stderr",
     "output_type": "stream",
     "text": [
      "[Parallel(n_jobs=1)]: Done  25 out of  25 | elapsed:    5.8s finished\n"
     ]
    }
   ],
   "source": [
    "from sklearn.linear_model import LogisticRegression\n",
    "from sklearn.model_selection import GridSearchCV\n",
    "\n",
    "# 로지스틱 회귀 모형으로 분석\n",
    "lg_clf = LogisticRegression(random_state=0)\n",
    "\n",
    "# 파라미터 C 최적화를 위해 GridSearchCV를 이용\n",
    "lg_params = {'C': [1, 3.5, 4.5, 5.5, 10]}\n",
    "\n",
    "lg_grid_cv = GridSearchCV(lg_clf, param_grid=lg_params, cv=5, scoring='accuracy', verbose=2)\n",
    "lg_grid_cv.fit(tfidf_matrix_train, y_train)\n",
    "print(lg_grid_cv.best_params_, round(lg_grid_cv.best_score_, 4))"
   ]
  },
  {
   "cell_type": "markdown",
   "id": "automotive-dealer",
   "metadata": {},
   "source": [
    "### Testing\n",
    "\n",
    "#### [Metrics explained](https://blog.exsilio.com/all/accuracy-precision-recall-f1-score-interpretation-of-performance-measures/)"
   ]
  },
  {
   "cell_type": "code",
   "execution_count": 16,
   "id": "norman-hunter",
   "metadata": {
    "tags": []
   },
   "outputs": [
    {
     "name": "stdout",
     "output_type": "stream",
     "text": [
      "Logistic Regression\n",
      "\n",
      "               precision    recall  f1-score   support\n",
      "\n",
      "           0       0.72      0.81      0.76      2416\n",
      "           1       0.71      0.59      0.65      1877\n",
      "\n",
      "    accuracy                           0.72      4293\n",
      "   macro avg       0.72      0.70      0.70      4293\n",
      "weighted avg       0.72      0.72      0.71      4293\n",
      "\n"
     ]
    },
    {
     "data": {
      "image/png": "[encoded data removed]",
      "text/plain": [
       "<Figure size 864x576 with 2 Axes>"
      ]
     },
     "metadata": {
      "needs_background": "light"
     },
     "output_type": "display_data"
    }
   ],
   "source": [
    "from sklearn.metrics import classification_report\n",
    "from sklearn.metrics import confusion_matrix\n",
    "from sklearn.metrics import ConfusionMatrixDisplay\n",
    "\n",
    "# classifier는 GridSearchCV에서 최적 파라미터로 학습된 classifier를 그대로 이용\n",
    "lg_preds = lg_grid_cv.best_estimator_.predict(tfidf_matrix_test)\n",
    "\n",
    "# classification과 관련된 measures\n",
    "print('Logistic Regression\\n\\n',classification_report(y_test, lg_preds))\n",
    "\n",
    "# Confusion matrix plot\n",
    "lg_cm = confusion_matrix(y_test, lg_preds, labels=lg_grid_cv.classes_)\n",
    "lg_disp = ConfusionMatrixDisplay(confusion_matrix=lg_cm, display_labels=lg_grid_cv.classes_)\n",
    "\n",
    "fig, ax = plt.subplots(figsize=(12,8))\n",
    "plt.title('Logistic Regression Confusion Matrix\\n', fontsize=20)\n",
    "_ = lg_disp.plot(ax=ax) # _ = is used to not show < ~~~ >"
   ]
  },
  {
   "cell_type": "markdown",
   "id": "present-extraction",
   "metadata": {},
   "source": [
    "## Support Vector Machine"
   ]
  },
  {
   "cell_type": "markdown",
   "id": "balanced-lighting",
   "metadata": {},
   "source": [
    "### Training"
   ]
  },
  {
   "cell_type": "markdown",
   "id": "electric-municipality",
   "metadata": {},
   "source": [
    "[HP tuning reference](https://medium.com/all-things-ai/in-depth-parameter-tuning-for-svc-758215394769)"
   ]
  },
  {
   "cell_type": "code",
   "execution_count": 17,
   "id": "english-encounter",
   "metadata": {},
   "outputs": [
    {
     "name": "stdout",
     "output_type": "stream",
     "text": [
      "Fitting 5 folds for each of 4 candidates, totalling 20 fits\n",
      "[CV] C=0.1 ...........................................................\n"
     ]
    },
    {
     "name": "stderr",
     "output_type": "stream",
     "text": [
      "[Parallel(n_jobs=1)]: Using backend SequentialBackend with 1 concurrent workers.\n"
     ]
    },
    {
     "name": "stdout",
     "output_type": "stream",
     "text": [
      "[CV] ............................................ C=0.1, total=   7.9s\n",
      "[CV] C=0.1 ...........................................................\n"
     ]
    },
    {
     "name": "stderr",
     "output_type": "stream",
     "text": [
      "[Parallel(n_jobs=1)]: Done   1 out of   1 | elapsed:    7.9s remaining:    0.0s\n"
     ]
    },
    {
     "name": "stdout",
     "output_type": "stream",
     "text": [
      "[CV] ............................................ C=0.1, total=   7.8s\n",
      "[CV] C=0.1 ...........................................................\n",
      "[CV] ............................................ C=0.1, total=   7.8s\n",
      "[CV] C=0.1 ...........................................................\n",
      "[CV] ............................................ C=0.1, total=   8.4s\n",
      "[CV] C=0.1 ...........................................................\n",
      "[CV] ............................................ C=0.1, total=   8.0s\n",
      "[CV] C=1 .............................................................\n",
      "[CV] .............................................. C=1, total=   8.6s\n",
      "[CV] C=1 .............................................................\n",
      "[CV] .............................................. C=1, total=   8.2s\n",
      "[CV] C=1 .............................................................\n",
      "[CV] .............................................. C=1, total=   8.5s\n",
      "[CV] C=1 .............................................................\n",
      "[CV] .............................................. C=1, total=   8.6s\n",
      "[CV] C=1 .............................................................\n",
      "[CV] .............................................. C=1, total=   8.5s\n",
      "[CV] C=10 ............................................................\n",
      "[CV] ............................................. C=10, total=  10.6s\n",
      "[CV] C=10 ............................................................\n",
      "[CV] ............................................. C=10, total=  11.5s\n",
      "[CV] C=10 ............................................................\n",
      "[CV] ............................................. C=10, total=  10.8s\n",
      "[CV] C=10 ............................................................\n",
      "[CV] ............................................. C=10, total=  10.5s\n",
      "[CV] C=10 ............................................................\n",
      "[CV] ............................................. C=10, total=  10.6s\n",
      "[CV] C=100 ...........................................................\n",
      "[CV] ............................................ C=100, total=  10.6s\n",
      "[CV] C=100 ...........................................................\n",
      "[CV] ............................................ C=100, total=  13.0s\n",
      "[CV] C=100 ...........................................................\n",
      "[CV] ............................................ C=100, total=  10.2s\n",
      "[CV] C=100 ...........................................................\n",
      "[CV] ............................................ C=100, total=   9.9s\n",
      "[CV] C=100 ...........................................................\n",
      "[CV] ............................................ C=100, total=  10.5s\n"
     ]
    },
    {
     "name": "stderr",
     "output_type": "stream",
     "text": [
      "[Parallel(n_jobs=1)]: Done  20 out of  20 | elapsed:  3.2min finished\n"
     ]
    },
    {
     "name": "stdout",
     "output_type": "stream",
     "text": [
      "{'C': 1} 0.7325\n"
     ]
    }
   ],
   "source": [
    "from sklearn.svm import SVC\n",
    "from sklearn.model_selection import GridSearchCV\n",
    "\n",
    "# Support Vector Machine\n",
    "svc = SVC(random_state=0)\n",
    "\n",
    "# 파라미터 그리드\n",
    "svc_params = {'C': [0.1, 1, 10, 100]}\n",
    "\n",
    "svc_grid_cv = GridSearchCV(svc, param_grid=svc_params, cv=5, scoring='accuracy', verbose=2)\n",
    "svc_grid_cv.fit(tfidf_matrix_train, y_train)\n",
    "print(svc_grid_cv.best_params_, round(svc_grid_cv.best_score_, 4))"
   ]
  },
  {
   "cell_type": "markdown",
   "id": "instrumental-cassette",
   "metadata": {},
   "source": [
    "### Testing"
   ]
  },
  {
   "cell_type": "code",
   "execution_count": 18,
   "id": "unlike-portfolio",
   "metadata": {
    "tags": []
   },
   "outputs": [
    {
     "name": "stdout",
     "output_type": "stream",
     "text": [
      "Support Vector Machine\n",
      "\n",
      "               precision    recall  f1-score   support\n",
      "\n",
      "           0       0.75      0.84      0.79      2416\n",
      "           1       0.75      0.64      0.69      1877\n",
      "\n",
      "    accuracy                           0.75      4293\n",
      "   macro avg       0.75      0.74      0.74      4293\n",
      "weighted avg       0.75      0.75      0.75      4293\n",
      "\n"
     ]
    },
    {
     "data": {
      "image/png": "[encoded data removed]",
      "text/plain": [
       "<Figure size 864x576 with 2 Axes>"
      ]
     },
     "metadata": {
      "needs_background": "light"
     },
     "output_type": "display_data"
    }
   ],
   "source": [
    "from sklearn.metrics import classification_report\n",
    "from sklearn.metrics import confusion_matrix\n",
    "from sklearn.metrics import ConfusionMatrixDisplay\n",
    "\n",
    "# classifier는 GridSearchCV에서 최적 파라미터로 학습된 classifier를 그대로 이용\n",
    "svc_preds = svc_grid_cv.best_estimator_.predict(tfidf_matrix_test)\n",
    "\n",
    "# classification과 관련된 measures\n",
    "print('Support Vector Machine\\n\\n',classification_report(y_test, svc_preds))\n",
    "\n",
    "# Confusion matrix plot\n",
    "svc_cm = confusion_matrix(y_test, svc_preds, labels=svc_grid_cv.classes_)\n",
    "svc_disp = ConfusionMatrixDisplay(confusion_matrix=svc_cm, display_labels=svc_grid_cv.classes_)\n",
    "\n",
    "fig, ax = plt.subplots(figsize=(12,8))\n",
    "plt.title('SVC Confusion Matrix\\n', fontsize=20)\n",
    "_ = svc_disp.plot(ax=ax) # _ = is used to not show < ~~~ >"
   ]
  },
  {
   "cell_type": "markdown",
   "id": "excessive-zimbabwe",
   "metadata": {},
   "source": [
    "## Multinomial Naive Bayes"
   ]
  },
  {
   "cell_type": "markdown",
   "id": "great-pride",
   "metadata": {},
   "source": [
    "### Training"
   ]
  },
  {
   "cell_type": "code",
   "execution_count": 19,
   "id": "forty-activity",
   "metadata": {},
   "outputs": [
    {
     "name": "stdout",
     "output_type": "stream",
     "text": [
      "Fitting 5 folds for each of 4 candidates, totalling 20 fits\n",
      "[CV] alpha=0 .........................................................\n",
      "[CV] .......................................... alpha=0, total=   0.0s\n",
      "[CV] alpha=0 .........................................................\n",
      "[CV] .......................................... alpha=0, total=   0.0s\n",
      "[CV] alpha=0 .........................................................\n",
      "[CV] .......................................... alpha=0, total=   0.0s\n",
      "[CV] alpha=0 .........................................................\n",
      "[CV] .......................................... alpha=0, total=   0.0s\n",
      "[CV] alpha=0 .........................................................\n",
      "[CV] .......................................... alpha=0, total=   0.0s\n",
      "[CV] alpha=1 .........................................................\n",
      "[CV] .......................................... alpha=1, total=   0.0s\n",
      "[CV] alpha=1 .........................................................\n",
      "[CV] .......................................... alpha=1, total=   0.0s\n",
      "[CV] alpha=1 .........................................................\n",
      "[CV] .......................................... alpha=1, total=   0.0s\n",
      "[CV] alpha=1 .........................................................\n",
      "[CV] .......................................... alpha=1, total=   0.0s\n",
      "[CV] alpha=1 .........................................................\n",
      "[CV] .......................................... alpha=1, total=   0.0s\n",
      "[CV] alpha=10 ........................................................\n",
      "[CV] ......................................... alpha=10, total=   0.0s\n",
      "[CV] alpha=10 ........................................................\n",
      "[CV] ......................................... alpha=10, total=   0.0s\n",
      "[CV] alpha=10 ........................................................\n",
      "[CV] ......................................... alpha=10, total=   0.0s\n",
      "[CV] alpha=10 ........................................................\n",
      "[CV] ......................................... alpha=10, total=   0.0s\n",
      "[CV] alpha=10 ........................................................\n",
      "[CV] ......................................... alpha=10, total=   0.0s\n",
      "[CV] alpha=100 .......................................................\n",
      "[CV] ........................................ alpha=100, total=   0.0s\n",
      "[CV] alpha=100 .......................................................\n",
      "[CV] ........................................ alpha=100, total=   0.0s\n",
      "[CV] alpha=100 .......................................................\n",
      "[CV] ........................................ alpha=100, total=   0.0s\n",
      "[CV] alpha=100 .......................................................\n",
      "[CV] ........................................ alpha=100, total=   0.0s\n",
      "[CV] alpha=100 .......................................................\n",
      "[CV] ........................................ alpha=100, total=   0.0s\n",
      "{'alpha': 0} 0.7156\n"
     ]
    },
    {
     "name": "stderr",
     "output_type": "stream",
     "text": [
      "[Parallel(n_jobs=1)]: Using backend SequentialBackend with 1 concurrent workers.\n",
      "[Parallel(n_jobs=1)]: Done   1 out of   1 | elapsed:    0.0s remaining:    0.0s\n",
      "[Parallel(n_jobs=1)]: Done  20 out of  20 | elapsed:    0.1s finished\n"
     ]
    }
   ],
   "source": [
    "from sklearn.naive_bayes import MultinomialNB\n",
    "from sklearn.model_selection import GridSearchCV\n",
    "\n",
    "# Support Vector Machine\n",
    "mnb = MultinomialNB()\n",
    "\n",
    "# 파라미터 그리드\n",
    "mnb_params = {'alpha': [0, 1, 10, 100]}\n",
    "\n",
    "mnb_grid_cv = GridSearchCV(mnb, param_grid=mnb_params, cv=5, scoring='accuracy', verbose=2)\n",
    "mnb_grid_cv.fit(tfidf_matrix_train, y_train)\n",
    "print(mnb_grid_cv.best_params_, round(mnb_grid_cv.best_score_, 4))"
   ]
  },
  {
   "cell_type": "markdown",
   "id": "thousand-springfield",
   "metadata": {},
   "source": [
    "### Testing"
   ]
  },
  {
   "cell_type": "code",
   "execution_count": 20,
   "id": "located-stationery",
   "metadata": {
    "tags": []
   },
   "outputs": [
    {
     "name": "stdout",
     "output_type": "stream",
     "text": [
      "MultinomialNB\n",
      "\n",
      "               precision    recall  f1-score   support\n",
      "\n",
      "           0       0.74      0.79      0.76      2416\n",
      "           1       0.70      0.65      0.67      1877\n",
      "\n",
      "    accuracy                           0.73      4293\n",
      "   macro avg       0.72      0.72      0.72      4293\n",
      "weighted avg       0.72      0.73      0.72      4293\n",
      "\n"
     ]
    },
    {
     "data": {
      "image/png": "[encoded data removed]",
      "text/plain": [
       "<Figure size 864x576 with 2 Axes>"
      ]
     },
     "metadata": {
      "needs_background": "light"
     },
     "output_type": "display_data"
    }
   ],
   "source": [
    "from sklearn.metrics import classification_report\n",
    "from sklearn.metrics import confusion_matrix\n",
    "from sklearn.metrics import ConfusionMatrixDisplay\n",
    "\n",
    "# classifier는 GridSearchCV에서 최적 파라미터로 학습된 classifier를 그대로 이용\n",
    "mnb_preds = mnb_grid_cv.best_estimator_.predict(tfidf_matrix_test)\n",
    "\n",
    "# classification과 관련된 measures\n",
    "print('MultinomialNB\\n\\n',classification_report(y_test, mnb_preds))\n",
    "\n",
    "# Confusion matrix plot\n",
    "mnb_cm = confusion_matrix(y_test, mnb_preds, labels=mnb_grid_cv.classes_)\n",
    "mnb_disp = ConfusionMatrixDisplay(confusion_matrix=mnb_cm, display_labels=mnb_grid_cv.classes_)\n",
    "\n",
    "fig, ax = plt.subplots(figsize=(12,8))\n",
    "plt.title('MultinomialNB Confusion Matrix\\n', fontsize=20)\n",
    "_ = mnb_disp.plot(ax=ax) # _ = is used to not show < ~~~ >"
   ]
  },
  {
   "cell_type": "code",
   "execution_count": null,
   "id": "changing-father",
   "metadata": {},
   "outputs": [],
   "source": []
  }
 ],
 "metadata": {
  "kernelspec": {
   "display_name": "Python 3",
   "language": "python",
   "name": "python3"
  },
  "language_info": {
   "codemirror_mode": {
    "name": "ipython",
    "version": 3
   },
   "file_extension": ".py",
   "mimetype": "text/x-python",
   "name": "python",
   "nbconvert_exporter": "python",
   "pygments_lexer": "ipython3",
   "version": "3.8.5"
  }
 },
 "nbformat": 4,
 "nbformat_minor": 5
}
